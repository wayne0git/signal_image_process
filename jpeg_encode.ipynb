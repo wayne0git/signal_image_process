{
  "nbformat": 4,
  "nbformat_minor": 0,
  "metadata": {
    "colab": {
      "name": "jpeg_encode.ipynb",
      "provenance": [],
      "authorship_tag": "ABX9TyMJmlYFItcUVqdRmJrawA5/",
      "include_colab_link": true
    },
    "kernelspec": {
      "name": "python3",
      "display_name": "Python 3"
    },
    "language_info": {
      "name": "python"
    }
  },
  "cells": [
    {
      "cell_type": "markdown",
      "metadata": {
        "id": "view-in-github",
        "colab_type": "text"
      },
      "source": [
        "<a href=\"https://colab.research.google.com/github/wayne0git/signal_image_process/blob/main/jpeg_encode.ipynb\" target=\"_parent\"><img src=\"https://colab.research.google.com/assets/colab-badge.svg\" alt=\"Open In Colab\"/></a>"
      ]
    },
    {
      "cell_type": "markdown",
      "metadata": {
        "id": "VjSqrgDaRouh"
      },
      "source": [
        "# JPEG Encode\n",
        "- Ref : https://www.hdm-stuttgart.de/~maucher/Python/MMCodecs/html/jpegUpToQuant.html"
      ]
    },
    {
      "cell_type": "code",
      "metadata": {
        "id": "M933ExxqRkso"
      },
      "source": [
        "import cv2\n",
        "import matplotlib.pyplot as plt\n",
        "import numpy as np"
      ],
      "execution_count": 1,
      "outputs": []
    },
    {
      "cell_type": "markdown",
      "metadata": {
        "id": "6-MIbH5QSwG_"
      },
      "source": [
        "## Constant"
      ]
    },
    {
      "cell_type": "code",
      "metadata": {
        "id": "UY4c0NcdSyv_"
      },
      "source": [
        "# JPEG Block size\n",
        "B = 8\n",
        "\n",
        "# JPEG Quality factor\n",
        "QF = 99.0   # 1 ~ 99"
      ],
      "execution_count": 11,
      "outputs": []
    },
    {
      "cell_type": "code",
      "metadata": {
        "id": "-zbNT6vGUb7W"
      },
      "source": [
        "# Quantization Table (Luma / Chroma)\n",
        "QY=np.array([[16,11,10,16,24,40,51,61],\n",
        "      [12,12,14,19,26,48,60,55],\n",
        "      [14,13,16,24,40,57,69,56],\n",
        "      [14,17,22,29,51,87,80,62],\n",
        "      [18,22,37,56,68,109,103,77],\n",
        "      [24,35,55,64,81,104,113,92],\n",
        "      [49,64,78,87,103,121,120,101],\n",
        "      [72,92,95,98,112,100,103,99]])\n",
        "\n",
        "QC=np.array([[17,18,24,47,99,99,99,99],\n",
        "      [18,21,26,66,99,99,99,99],\n",
        "      [24,26,56,99,99,99,99,99],\n",
        "      [47,66,99,99,99,99,99,99],\n",
        "      [99,99,99,99,99,99,99,99],\n",
        "      [99,99,99,99,99,99,99,99],\n",
        "      [99,99,99,99,99,99,99,99],\n",
        "      [99,99,99,99,99,99,99,99]])"
      ],
      "execution_count": 10,
      "outputs": []
    },
    {
      "cell_type": "markdown",
      "metadata": {
        "id": "gWNeOSZ1SiLY"
      },
      "source": [
        "## 1. Read data"
      ]
    },
    {
      "cell_type": "code",
      "metadata": {
        "id": "swfcyEf7Rzgi"
      },
      "source": [
        "img = cv2.imread('lena.jpg')"
      ],
      "execution_count": 2,
      "outputs": []
    },
    {
      "cell_type": "markdown",
      "metadata": {
        "id": "aC_AR57sS4jP"
      },
      "source": [
        "## 2. Color Conversion (RGB => YCbCr) (With chroma subsample, 420)"
      ]
    },
    {
      "cell_type": "code",
      "metadata": {
        "id": "4ATrt05MRy83"
      },
      "source": [
        "img_ycrcb = cv2.cvtColor(img, cv2.COLOR_BGR2YCrCb)"
      ],
      "execution_count": 4,
      "outputs": []
    },
    {
      "cell_type": "code",
      "metadata": {
        "id": "tV5XzIkzTHPg"
      },
      "source": [
        "# Apply 2 * 2 average before 2x subsample\n",
        "cr_sub = cv2.boxFilter(img_ycrcb[..., 1], ddepth=-1, ksize=(2, 2))[::2, ::2]\n",
        "cb_sub = cv2.boxFilter(img_ycrcb[..., 2], ddepth=-1, ksize=(2, 2))[::2, ::2]"
      ],
      "execution_count": 8,
      "outputs": []
    },
    {
      "cell_type": "code",
      "metadata": {
        "id": "pw-E9590UNbU"
      },
      "source": [
        "# Concatenate Y / Cr / Cb\n",
        "img_ycrcb = cv2.cvtColor(img, cv2.COLOR_BGR2YCrCb)\n",
        "ycrcb = [img_ycrcb, cr_sub, cb_sub]"
      ],
      "execution_count": 9,
      "outputs": []
    },
    {
      "cell_type": "markdown",
      "metadata": {
        "id": "fj9bVCCPUpqH"
      },
      "source": [
        "## 3. DCT & Quantization"
      ]
    },
    {
      "cell_type": "code",
      "metadata": {
        "id": "3iCzXUuQUYIo"
      },
      "source": [
        "# Adjust quantization table based on quality factor\n",
        "def get_scale(qf):\n",
        "    if qf < 50 and qf >= 1:\n",
        "        return np.floor(5000 / qf) / 100.0\n",
        "    elif qf < 100:\n",
        "        return (200 - 2 * qf) / 100.0\n",
        "    else:\n",
        "        print('Quality Factor must be in the range [1..99]')\n",
        "        return 1\n",
        "\n",
        "scale = get_scale(QF)\n",
        "q_table = [QY * scale, QC * scale, QC * scale]"
      ],
      "execution_count": 16,
      "outputs": []
    },
    {
      "cell_type": "code",
      "metadata": {
        "colab": {
          "base_uri": "https://localhost:8080/",
          "height": 282
        },
        "id": "GnQnlkVXV-4O",
        "outputId": "69c8bcc1-ee77-4f1e-e8ea-6205f53784c5"
      },
      "source": [
        "plt.plot(range(1, 100), [get_scale(q) for q in range(1, 100)], 'ro-')"
      ],
      "execution_count": 17,
      "outputs": [
        {
          "output_type": "execute_result",
          "data": {
            "text/plain": [
              "[<matplotlib.lines.Line2D at 0x7f0da1ac7050>]"
            ]
          },
          "metadata": {
            "tags": []
          },
          "execution_count": 17
        },
        {
          "output_type": "display_data",
          "data": {
            "image/png": "[encoded data removed]",
            "text/plain": [
              "<Figure size 432x288 with 1 Axes>"
            ]
          },
          "metadata": {
            "tags": [],
            "needs_background": "light"
          }
        }
      ]
    },
    {
      "cell_type": "code",
      "metadata": {
        "id": "235n-1MyWH9g"
      },
      "source": [
        "# Apply DCT and quantization\n",
        "TransAll=[]\n",
        "TransAllQuant=[]\n",
        "ch=['Y','Cr','Cb']\n",
        "\n",
        "for channel in ycrcb:\n",
        "    n_row, n_col = channel.shape\n",
        "    Trans = np.zeros((n_row, n_col), np.float32)\n",
        "    TransQuant = np.zeros((n_row, n_col), np.float32)\n",
        "    blocksV = n_row/B\n",
        "    blocksH = n_col/B\n",
        "    vis0 = np.zeros((channelrows,channelcols), np.float32)\n",
        "    vis0[:channelrows, :channelcols] = channel\n",
        "    vis0=vis0-128\n",
        "    for row in range(blocksV):\n",
        "        for col in range(blocksH):\n",
        "            currentblock = cv2.dct(vis0[row*B:(row+1)*B,col*B:(col+1)*B])\n",
        "            Trans[row*B:(row+1)*B,col*B:(col+1)*B]=currentblock\n",
        "            TransQuant[row*B:(row+1)*B,col*B:(col+1)*B]=np.round(currentblock/Q[idx])\n",
        "    TransAll.append(Trans)\n",
        "    TransAllQuant.append(TransQuant)\n",
        "    if idx==0:\n",
        "        selectedTrans=Trans[srow*B:(srow+1)*B,scol*B:(scol+1)*B]\n",
        "    else:\n",
        "        sr=np.floor(srow/SSV)\n",
        "        sc=np.floor(scol/SSV)\n",
        "        selectedTrans=Trans[sr*B:(sr+1)*B,sc*B:(sc+1)*B]"
      ],
      "execution_count": null,
      "outputs": []
    }
  ]
}